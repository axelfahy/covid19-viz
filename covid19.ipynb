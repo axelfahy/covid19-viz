{
 "cells": [
  {
   "cell_type": "markdown",
   "metadata": {},
   "source": [
    "# Covid19 evolution\n",
    "\n",
    "Data source: \n",
    "\n",
    "- covid data: https://github.com/CSSEGISandData/COVID-19/tree/master/csse_covid_19_data/csse_covid_19_time_series\n",
    "- population by country: https://www.worldometers.info/world-population/population-by-country/"
   ]
  },
  {
   "cell_type": "code",
   "execution_count": null,
   "metadata": {},
   "outputs": [],
   "source": [
    "from pathlib import Path\n",
    "\n",
    "import pandas as pd\n",
    "import requests\n",
    "from bs4 import BeautifulSoup\n",
    "\n",
    "from plot import plot_countries_evolution"
   ]
  },
  {
   "cell_type": "code",
   "execution_count": null,
   "metadata": {},
   "outputs": [],
   "source": [
    "URLS = ['https://raw.githubusercontent.com/CSSEGISandData/COVID-19/master/csse_covid_19_data/csse_covid_19_time_series/time_series_covid19_confirmed_global.csv',\n",
    "        'https://raw.githubusercontent.com/CSSEGISandData/COVID-19/master/csse_covid_19_data/csse_covid_19_time_series/time_series_covid19_deaths_global.csv',\n",
    "        'https://raw.githubusercontent.com/CSSEGISandData/COVID-19/master/csse_covid_19_data/csse_covid_19_time_series/time_series_covid19_recovered_global.csv']\n",
    "POP_URL = 'https://www.worldometers.info/world-population/population-by-country/'\n",
    "files = [url.split('/')[-1] for url in URLS]"
   ]
  },
  {
   "cell_type": "code",
   "execution_count": null,
   "metadata": {},
   "outputs": [],
   "source": [
    "# Download the updated files.\n",
    "for url, file in zip(URLS, files):\n",
    "    print(f'Retrieving {url}')\n",
    "    with open(Path('.').joinpath(file), 'wb') as f:\n",
    "        f.write(requests.get(url).content)"
   ]
  },
  {
   "cell_type": "code",
   "execution_count": null,
   "metadata": {},
   "outputs": [],
   "source": [
    "# Create the DataFrames for each category ('Confirmed', 'Deaths', 'Recovered').\n",
    "data = {file.split('-')[-1].split('.')[0]: \n",
    "        (pd.read_csv(Path('.')\n",
    "         .joinpath(file))\n",
    "         .rename({'Province/State': 'State', 'Country/Region': 'Country'}, axis='columns')\n",
    "         .set_index(['State', 'Country'])\n",
    "         .drop(['Lat', 'Long'], axis='columns')\n",
    "         )\n",
    "        for file in files}"
   ]
  },
  {
   "cell_type": "code",
   "execution_count": null,
   "metadata": {},
   "outputs": [],
   "source": [
    "# Recover the population of the countries, webscraping from `POP_URL`.\n",
    "# Don't recreate if already exists.\n",
    "country_path = Path('.').joinpath('country.parquet')\n",
    "if country_path.is_file():\n",
    "    df_country = pd.read_parquet(country_path)\n",
    "else:\n",
    "    response = requests.get(POP_URL)\n",
    "    soup = BeautifulSoup(response.text, 'html.parser')\n",
    "    table = soup.find('table')\n",
    "    # Recover the header of the table.\n",
    "    header = [e.text.strip() for e in table.find_all('th')[1:]]\n",
    "    rows = table.find('tbody').find_all('tr')\n",
    "\n",
    "    data_countries = []\n",
    "    for row in rows:\n",
    "        data_countries.append([e.text.strip() for e in row.find_all('td')[1:]])\n",
    "\n",
    "    df_country = (pd.DataFrame(data_countries, columns=header)\n",
    "                  .rename({'Country (or dependency)': 'Country', \n",
    "                           'Population (2020)': 'Population'}, \n",
    "                          axis='columns')\n",
    "                  .set_index('Country')\n",
    "                  )\n",
    "    df_country.to_parquet(country_path)"
   ]
  },
  {
   "cell_type": "code",
   "execution_count": null,
   "metadata": {},
   "outputs": [],
   "source": [
    "for cases in data.keys():\n",
    "    plot_countries_evolution(data, df_country, 'Italy', 'Switzerland', 'France', \n",
    "                             'Germany', 'Iran', 'Japan', 'China',\n",
    "                             cases=cases, relatif=True)"
   ]
  },
  {
   "cell_type": "code",
   "execution_count": null,
   "metadata": {},
   "outputs": [],
   "source": [
    "for cases in data.keys():\n",
    "    plot_countries_evolution(data, df_country, 'Italy', 'Switzerland', 'France', \n",
    "                             'Germany', 'Iran', 'Japan', \n",
    "                             cases=cases, relatif=False)"
   ]
  }
 ],
 "metadata": {
  "kernelspec": {
   "display_name": "Python 3",
   "language": "python",
   "name": "python3"
  },
  "language_info": {
   "codemirror_mode": {
    "name": "ipython",
    "version": 3
   },
   "file_extension": ".py",
   "mimetype": "text/x-python",
   "name": "python",
   "nbconvert_exporter": "python",
   "pygments_lexer": "ipython3",
   "version": "3.8.2"
  }
 },
 "nbformat": 4,
 "nbformat_minor": 4
}
